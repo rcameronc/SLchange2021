{
 "cells": [
  {
   "cell_type": "code",
   "execution_count": 85,
   "metadata": {},
   "outputs": [],
   "source": [
    "import numpy as np\n",
    "import matplotlib.pyplot as plt\n",
    "from scipy import interpolate as interp\n",
    "# import cmocean\n",
    "import spharm as ps\n",
    "from pathlib import Path\n",
    "from cartopy import crs as ccrs\n",
    "import cartopy.feature as cfeature\n",
    "from scipy.special import roots_legendre\n"
   ]
  },
  {
   "cell_type": "code",
   "execution_count": 56,
   "metadata": {},
   "outputs": [],
   "source": [
    "lmax=256 #Our maximum degree used in the SH transform\n",
    "lreturn=16 #The maximum degree we truncate to for the inverse SH transform\n",
    "a = 6.371e6     #earth radius (meters)\n",
    "\n",
    "\n",
    "#################### LOAD DATA\n",
    "mf1 = Path(\"./etopo_ice_15.npy\")\n",
    "mf2 = Path(\"./etopo_ice_15.txt\")\n",
    "\n",
    "if mf1.is_file():\n",
    "    etopo = np.load('etopo_ice_15.npy')\n",
    "\n",
    "elif mf2.is_file():\n",
    "    etopo = np.loadtxt('etopo_ice_15.txt') #lon, lat, topography\n",
    "  \n",
    "  #numpy .npy binary format example\n",
    "    np.save('etopo_ice_15.npy',etopo)\n",
    "\n",
    "else:\n",
    "    print(\"Can not find etopo file\")\n",
    "\n",
    "############## Reshape etopo\n",
    "num1 = np.unique(etopo[:,0]).size\n",
    "num2 = np.unique(etopo[:,1]).size\n",
    "\n",
    "lon2 = np.reshape(etopo[:,0],(num1,num2)).T\n",
    "lat2 = np.reshape(etopo[:,1],(num1,num2)).T\n",
    "topo2 = np.reshape(etopo[:,2],(num1,num2)).T\n",
    "\n",
    "topo_interp = interp.interp2d(lon2[1,:],lat2[:,1],topo2)"
   ]
  },
  {
   "cell_type": "code",
   "execution_count": 63,
   "metadata": {},
   "outputs": [],
   "source": [
    "def make_glq_grid(lmax):\n",
    "    \n",
    "    nlat, nlon = lmax, lmax * 2\n",
    "    zero, w = roots_legendre(lmax)\n",
    "    \n",
    "    longlq = np.array([360 * i/nlon for i in range(nlon)])\n",
    "#     latlq = np.array([np.arcsin(zero[i-1]) * 180/np.pi for i in np.arange(1, nlat+1, 1)])\n",
    "    latlq = np.array([np.arcsin(zero[i]) * 180/np.pi for i in range(nlat)])\n",
    "    return longlq, latglq,  nlat, nlon\n"
   ]
  },
  {
   "cell_type": "code",
   "execution_count": 82,
   "metadata": {},
   "outputs": [
    {
     "name": "stdout",
     "output_type": "stream",
     "text": [
      "Generating GLQ grid ...\n",
      "Interpolating data onto GLQ grid ...\n"
     ]
    }
   ],
   "source": [
    "############## Construct gauss legendre grid\n",
    "print(\"Generating GLQ grid ...\")\n",
    "\n",
    "longlq, latglq, nlat, nlon = make_glq_grid(lmax)\n",
    "\n",
    "\n",
    "############## Interplate data onto grid\n",
    "print(\"Interpolating data onto GLQ grid ...\")\n",
    "topoglq2 = topo_interp(longlq,latglq)\n",
    "\n",
    "\n",
    "############## Spherical harmonic transform\n",
    "\n",
    "sph = ps.Spharmt(nlon, nlat, rsphere=a, gridtype='gaussian', legfunc='stored')\n",
    "cilm = sph.grdtospec(topoglq2)\n",
    "\n",
    "############## Inverse Spherical harmonic transform\n",
    "\n",
    "# longlq, latglq, nlat, nlon = make_glq_grid(lreturn)\n",
    "# sph = ps.Spharmt(nlon, nlat, rsphere=a, gridtype='gaussian', legfunc='stored')\n",
    "gridglq = sph.spectogrd(cilm)\n",
    "\n",
    "\n",
    "\n",
    "\n",
    "# sph = ps.Spharmt(nlons, nlats, rsphere=a, gridtype='gaussian', legfunc='stored')\n",
    "\n",
    "# # Topo_gl into Spherical harmonics\n",
    "# del_ice_sh = sph.grdtospec(del_ice)"
   ]
  },
  {
   "cell_type": "code",
   "execution_count": 86,
   "metadata": {},
   "outputs": [
    {
     "ename": "ModuleNotFoundError",
     "evalue": "No module named 'cartopy.mpl'",
     "output_type": "error",
     "traceback": [
      "\u001b[0;31m---------------------------------------------------------------------------\u001b[0m",
      "\u001b[0;31mModuleNotFoundError\u001b[0m                       Traceback (most recent call last)",
      "\u001b[0;32m<ipython-input-86-c54c912c1c04>\u001b[0m in \u001b[0;36m<module>\u001b[0;34m\u001b[0m\n\u001b[1;32m     23\u001b[0m \u001b[0mf1\u001b[0m \u001b[0;34m=\u001b[0m \u001b[0mplt\u001b[0m\u001b[0;34m.\u001b[0m\u001b[0mfigure\u001b[0m\u001b[0;34m(\u001b[0m\u001b[0mfigsize\u001b[0m\u001b[0;34m=\u001b[0m\u001b[0;34m(\u001b[0m\u001b[0;36m18\u001b[0m\u001b[0;34m,\u001b[0m\u001b[0;36m12\u001b[0m\u001b[0;34m)\u001b[0m\u001b[0;34m)\u001b[0m\u001b[0;34m\u001b[0m\u001b[0;34m\u001b[0m\u001b[0m\n\u001b[1;32m     24\u001b[0m \u001b[0;31m# add a subplot\u001b[0m\u001b[0;34m\u001b[0m\u001b[0;34m\u001b[0m\u001b[0;34m\u001b[0m\u001b[0m\n\u001b[0;32m---> 25\u001b[0;31m \u001b[0max1\u001b[0m \u001b[0;34m=\u001b[0m \u001b[0mf1\u001b[0m\u001b[0;34m.\u001b[0m\u001b[0madd_subplot\u001b[0m\u001b[0;34m(\u001b[0m\u001b[0;36m1\u001b[0m\u001b[0;34m,\u001b[0m \u001b[0;36m1\u001b[0m\u001b[0;34m,\u001b[0m \u001b[0;36m1\u001b[0m\u001b[0;34m,\u001b[0m \u001b[0mprojection\u001b[0m\u001b[0;34m=\u001b[0m\u001b[0mccrs\u001b[0m\u001b[0;34m.\u001b[0m\u001b[0mPlateCarree\u001b[0m\u001b[0;34m(\u001b[0m\u001b[0;34m)\u001b[0m\u001b[0;34m)\u001b[0m\u001b[0;34m\u001b[0m\u001b[0;34m\u001b[0m\u001b[0m\n\u001b[0m\u001b[1;32m     26\u001b[0m \u001b[0;34m\u001b[0m\u001b[0m\n\u001b[1;32m     27\u001b[0m \u001b[0;31m# set the extent (you will need to change this for your problem set)\u001b[0m\u001b[0;34m\u001b[0m\u001b[0;34m\u001b[0m\u001b[0;34m\u001b[0m\u001b[0m\n",
      "\u001b[0;32m/anaconda3/envs/elastic_sleq/lib/python3.8/site-packages/matplotlib/figure.py\u001b[0m in \u001b[0;36madd_subplot\u001b[0;34m(self, *args, **kwargs)\u001b[0m\n",
      "\u001b[0;32m/anaconda3/envs/elastic_sleq/lib/python3.8/site-packages/matplotlib/figure.py\u001b[0m in \u001b[0;36m_process_projection_requirements\u001b[0;34m(self, polar, projection, *args, **kwargs)\u001b[0m\n",
      "\u001b[0;32m/anaconda3/envs/elastic_sleq/lib/python3.8/site-packages/cartopy/crs.py\u001b[0m in \u001b[0;36m_as_mpl_axes\u001b[0;34m(self)\u001b[0m\n",
      "\u001b[0;31mModuleNotFoundError\u001b[0m: No module named 'cartopy.mpl'"
     ]
    },
    {
     "data": {
      "text/plain": [
       "<Figure size 1296x864 with 0 Axes>"
      ]
     },
     "metadata": {},
     "output_type": "display_data"
    }
   ],
   "source": [
    "\n",
    "# ############## Construct gauss legendre grid\n",
    "# print(\"Generating GLQ grid ...\")\n",
    "# latglq, longlq = pyshtools.expand.GLQGridCoord(lmax) #too stay consistent with matlab\n",
    "# longlq2,latglq2 = np.meshgrid(longlq,np.sort(latglq)) #latglq should be in assending order\n",
    "\n",
    "# ############## Interplate data onto grid\n",
    "# print(\"Interpolating data onto GLQ grid ...\")\n",
    "# topoglq2 = topo_interp(longlq,latglq)\n",
    "\n",
    "# ############## Spherical harmonic transform\n",
    "# print(\"Performing SH transform ...\")\n",
    "# zero, w = pyshtools.expand.SHGLQ(lmax)\n",
    "# cilm = pyshtools.expand.SHExpandGLQC(topoglq2,w,zero,norm=1,csphase=1,lmax_calc=lmax)\n",
    "\n",
    "# ############## Inverse Spherical harmonic transform\n",
    "# print(\"Taking the inverse SH transform ...\")\n",
    "# gridglq = pyshtools.expand.MakeGridGLQC(cilm,zero,lmax=lmax,norm=1,csphase=1,lmax_calc=lreturn)\n",
    "\n",
    "# ############## Plot results\n",
    "# print(\"Plotting ...\")\n",
    "\n",
    "##Initial topography on GLQ grid\n",
    "f1 = plt.figure(figsize=(18,12))\n",
    "# add a subplot\n",
    "ax1 = f1.add_subplot(1, 1, 1, projection=ccrs.PlateCarree())\n",
    "\n",
    "# set the extent (you will need to change this for your problem set)\n",
    "# ax1.set_extent([llon, ulon, llat, ulat], crs=ccrs.PlateCarree())\n",
    "\n",
    "\n",
    "def add_features(ax):\n",
    "    \n",
    "    # add coastal features\n",
    "    ax.add_feature(cfeature.LAND)\n",
    "    ax.add_feature(cfeature.OCEAN)\n",
    "    ax.add_feature(cfeature.COASTLINE.with_scale('50m'))\n",
    "    ax.add_feature(cfeature.BORDERS, linestyle=':')\n",
    "    ax.add_feature(cfeature.LAKES, alpha=0.5)\n",
    "    ax.add_feature(cfeature.RIVERS)\n",
    "    \n",
    "    return ax"
   ]
  },
  {
   "cell_type": "code",
   "execution_count": 84,
   "metadata": {},
   "outputs": [
    {
     "ename": "NameError",
     "evalue": "name 'add_features' is not defined",
     "output_type": "error",
     "traceback": [
      "\u001b[0;31m---------------------------------------------------------------------------\u001b[0m",
      "\u001b[0;31mNameError\u001b[0m                                 Traceback (most recent call last)",
      "\u001b[0;32m<ipython-input-84-f553ea4bfaa9>\u001b[0m in \u001b[0;36m<module>\u001b[0;34m\u001b[0m\n\u001b[0;32m----> 1\u001b[0;31m \u001b[0max1\u001b[0m \u001b[0;34m=\u001b[0m \u001b[0madd_features\u001b[0m\u001b[0;34m(\u001b[0m\u001b[0max1\u001b[0m\u001b[0;34m)\u001b[0m\u001b[0;34m\u001b[0m\u001b[0;34m\u001b[0m\u001b[0m\n\u001b[0m\u001b[1;32m      2\u001b[0m \u001b[0;34m\u001b[0m\u001b[0m\n\u001b[1;32m      3\u001b[0m \u001b[0;31m# add gridlines\u001b[0m\u001b[0;34m\u001b[0m\u001b[0;34m\u001b[0m\u001b[0;34m\u001b[0m\u001b[0m\n\u001b[1;32m      4\u001b[0m \u001b[0max1\u001b[0m\u001b[0;34m.\u001b[0m\u001b[0mgridlines\u001b[0m\u001b[0;34m(\u001b[0m\u001b[0mdraw_labels\u001b[0m\u001b[0;34m=\u001b[0m\u001b[0;32mTrue\u001b[0m\u001b[0;34m,\u001b[0m \u001b[0mdms\u001b[0m\u001b[0;34m=\u001b[0m\u001b[0;32mTrue\u001b[0m\u001b[0;34m,\u001b[0m \u001b[0mx_inline\u001b[0m\u001b[0;34m=\u001b[0m\u001b[0;32mFalse\u001b[0m\u001b[0;34m,\u001b[0m \u001b[0my_inline\u001b[0m\u001b[0;34m=\u001b[0m\u001b[0;32mFalse\u001b[0m\u001b[0;34m)\u001b[0m\u001b[0;34m\u001b[0m\u001b[0;34m\u001b[0m\u001b[0m\n\u001b[1;32m      5\u001b[0m \u001b[0;34m\u001b[0m\u001b[0m\n",
      "\u001b[0;31mNameError\u001b[0m: name 'add_features' is not defined"
     ]
    }
   ],
   "source": [
    "\n",
    "\n",
    "ax1 = add_features(ax1)\n",
    "\n",
    "# add gridlines\n",
    "ax1.gridlines(draw_labels=True, dms=True, x_inline=False, y_inline=False)\n",
    "\n",
    "# m1 = Basemap(projection='robin',lon_0=0,resolution='c')\n",
    "# m1.drawcoastlines()\n",
    "# m1.drawparallels(np.arange(-90.,120.,30.), labels=[True,False,False,False])\n",
    "# m1.drawmeridians(np.arange(0.,360.,60.), labels=[False,False,False,True])\n",
    "\n",
    "t1 = ax1.pcolormesh(longlq2,latglq2,topoglq2,cmap = cmocean.cm.topo, vmin=-6000, vmax=6000)\n",
    "\n",
    "cb = f1.colorbar(t1, ax=ax1, shrink=0.75, extend='both')\n",
    "cb.set_label(label='Surface Topography (m)',size=15,weight='bold')\n",
    "plt.title('etopo at SH degree ' + str(lmax))\n",
    "\n",
    "\n",
    "#Final topography on GLQ grid after truncation\n",
    "f2 = plt.figure(figsize=(18,12))\n",
    "ax2 = f2.add_subplot(1, 1, 1, projection=ccrs.PlateCarree())\n",
    "ax2 = add_features(ax2)\n",
    "\n",
    "\n",
    "\n",
    "#To deal with complex numbers in gridglq\n",
    "tmp = np.sign(gridglq).real*np.abs(gridglq)\n",
    "\n",
    "t2 = ax2.pcolormesh(longlq2,latglq2,tmp,cmap = cmocean.cm.topo, vmin=-6000, vmax=6000)\n",
    "\n",
    "cb2 = f2.colorbar(t2, ax=ax2, shrink=0.75, extend='both')\n",
    "cb2.set_label(label='Surface Topography (m)',size=15,weight='bold')\n",
    "plt.title('etopo at SH degree ' + str(lreturn))\n",
    "\n",
    "plt.show()"
   ]
  },
  {
   "cell_type": "code",
   "execution_count": null,
   "metadata": {},
   "outputs": [],
   "source": []
  }
 ],
 "metadata": {
  "kernelspec": {
   "display_name": "Python 3",
   "language": "python",
   "name": "python3"
  },
  "language_info": {
   "codemirror_mode": {
    "name": "ipython",
    "version": 3
   },
   "file_extension": ".py",
   "mimetype": "text/x-python",
   "name": "python",
   "nbconvert_exporter": "python",
   "pygments_lexer": "ipython3",
   "version": "3.8.1"
  }
 },
 "nbformat": 4,
 "nbformat_minor": 4
}
