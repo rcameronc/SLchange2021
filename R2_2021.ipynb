{
 "cells": [
  {
   "cell_type": "markdown",
   "id": "attached-opposition",
   "metadata": {},
   "source": [
    "# Recap Session 2 - Python Basics (Sea Level Change, Spring 2021)"
   ]
  },
  {
   "cell_type": "markdown",
   "id": "filled-teddy",
   "metadata": {},
   "source": [
    "#### Step 1: import libraries\n"
   ]
  },
  {
   "cell_type": "code",
   "execution_count": 2,
   "id": "brutal-medicine",
   "metadata": {},
   "outputs": [],
   "source": [
    "import numpy as np\n",
    "from matplotlib import pyplot as plt"
   ]
  },
  {
   "cell_type": "markdown",
   "id": "stone-overall",
   "metadata": {},
   "source": [
    "Step 2: useful shortcuts for navigating jupyter notebooks\n",
    "\n",
    "    While in a cell:\n",
    "    + [esc]                ==> escape your cell to enter command mode \n",
    "    \n",
    "    While in command mode:\n",
    "    + [enter]              ==> enter a cell\n",
    "    + up/down arrows       ==> move up/down cells\n",
    "    + [b]                  ==> Add a cell under your current cell\n",
    "    + [a]                  ==> Add a cell above your current cell\n",
    "    + [c]                  ==> copy current cell\n",
    "    + [v]                  ==> paste current cell\n",
    "    + [dd]                 ==> delete the current cell\n",
    "    + [shift + enter]      ==> run current cell and advance to next cell\n",
    "    + [command + enter]    ==> run current cell and stay at current cell\n",
    "    + [m]                  ==> turn current cell into markdown cell\n",
    "    + [y]                  ==> turn current cell into code cell\n",
    "    + [r]                  ==> turn current cell into text cell (you won't ever need this)\n",
    "    + [tab]                ==> indent a line\n",
    "    + [shift + tab]        ==> unindent a line\n",
    "    \n",
    "\n",
    "    "
   ]
  },
  {
   "cell_type": "markdown",
   "id": "romance-butterfly",
   "metadata": {},
   "source": [
    "# Recap of Recap session 1: Matrices"
   ]
  },
  {
   "cell_type": "markdown",
   "id": "dried-program",
   "metadata": {},
   "source": [
    "We learned several commands for making arrays and matrices:\n",
    "\n",
    "Make linearly spaced arrays:\n",
    "+ \n",
    "+ "
   ]
  },
  {
   "cell_type": "markdown",
   "id": "stable-thanks",
   "metadata": {},
   "source": [
    "Make random vector between zero and one:\n",
    "+ "
   ]
  },
  {
   "cell_type": "markdown",
   "id": "selective-efficiency",
   "metadata": {},
   "source": [
    "We learned to do math operations on matrices, and a helpful command for checking matrix dimensions:\n",
    "\n",
    "+ "
   ]
  },
  {
   "cell_type": "markdown",
   "id": "formed-analysis",
   "metadata": {},
   "source": [
    "We learned several techniques for asking for help if you get stuck:\n",
    "\n",
    "+ \n",
    "+ \n",
    "+ \n",
    "+ "
   ]
  },
  {
   "cell_type": "markdown",
   "id": "australian-annual",
   "metadata": {},
   "source": [
    "We learned how to write for loops:\n",
    "\n",
    "+ \n",
    "+ "
   ]
  },
  {
   "cell_type": "markdown",
   "id": "modified-attempt",
   "metadata": {},
   "source": [
    "We learned about some different types in python  \n",
    "and how to check a variable's type with type(myVariable):\n",
    "\n",
    "+ "
   ]
  },
  {
   "cell_type": "markdown",
   "id": "presidential-village",
   "metadata": {},
   "source": [
    "There other types that you may run into:\n",
    "\n",
    "+ \n"
   ]
  },
  {
   "cell_type": "markdown",
   "id": "frozen-honey",
   "metadata": {},
   "source": [
    "__Booleans__ are  binary true/false variables "
   ]
  },
  {
   "cell_type": "code",
   "execution_count": null,
   "id": "ranging-creek",
   "metadata": {},
   "outputs": [],
   "source": []
  },
  {
   "cell_type": "code",
   "execution_count": null,
   "id": "agricultural-strike",
   "metadata": {},
   "outputs": [],
   "source": []
  },
  {
   "cell_type": "code",
   "execution_count": null,
   "id": "recovered-wedding",
   "metadata": {},
   "outputs": [],
   "source": []
  },
  {
   "cell_type": "code",
   "execution_count": null,
   "id": "final-seven",
   "metadata": {},
   "outputs": [],
   "source": []
  },
  {
   "cell_type": "markdown",
   "id": "recent-consideration",
   "metadata": {},
   "source": [
    "__If/else statements__ allow us to check whether a condition is true:"
   ]
  },
  {
   "cell_type": "code",
   "execution_count": null,
   "id": "revised-point",
   "metadata": {},
   "outputs": [],
   "source": []
  },
  {
   "cell_type": "markdown",
   "id": "positive-content",
   "metadata": {},
   "source": [
    "__Functions__ let us wrap code up in a neat package that we can then call,  \n",
    "just like we've called numpy functions such as arange:"
   ]
  },
  {
   "cell_type": "code",
   "execution_count": 219,
   "id": "compliant-walnut",
   "metadata": {},
   "outputs": [],
   "source": [
    "def bathTubTest(sea_levels):\n",
    "    \n",
    "        \n",
    "    return \"Done testing sea level\"\n",
    "     \n",
    "sea_levels = np.array([1, 2, 4, 3, 2, 2, 4, 5, 4, 2])\n",
    "\n",
    "# bathTubTest(sea_levels)"
   ]
  },
  {
   "cell_type": "markdown",
   "id": "accurate-suspect",
   "metadata": {},
   "source": [
    "### __Coding exercise 1__ ###\n",
    "\n",
    "1a. Plot the sea_levels array with a scatter plot.  Label axes, include legend, and make the markers a color of your choice (not default).\n",
    "\n",
    "1b.  Make a second plot that shows the rates of sea level change.   "
   ]
  },
  {
   "cell_type": "code",
   "execution_count": null,
   "id": "announced-patrol",
   "metadata": {},
   "outputs": [],
   "source": []
  },
  {
   "cell_type": "markdown",
   "id": "pharmaceutical-brother",
   "metadata": {},
   "source": [
    "### __Coding exercise 2__ ###"
   ]
  },
  {
   "cell_type": "markdown",
   "id": "growing-individual",
   "metadata": {},
   "source": [
    "Seawater expands according to this formula:\n",
    "\n",
    "$\\Delta V = V_o \\beta \\Delta T$  \n",
    "    \n",
    "where $\\beta$ is the coefficient of thermal expansion and $\\Delta T$ is the change in temperature.  \n",
    "\n",
    "* The maximum solubility of salt in water to be around 36% (w/w).  \n",
    "* For water with 35% NaCl dissolved at $25 ^\\circ C$: $\\beta = 297 * \\frac{10^{-6}}{K}$"
   ]
  },
  {
   "cell_type": "markdown",
   "id": "complete-envelope",
   "metadata": {},
   "source": [
    "2a.  Write a function that takes in a volume of sea water and computes how much it would expand if you increased the temperature by 2 degrees C.  \n",
    "\n",
    "2b. Plot the function vs. an array of different temperatures. \n"
   ]
  },
  {
   "cell_type": "code",
   "execution_count": null,
   "id": "senior-tumor",
   "metadata": {},
   "outputs": [],
   "source": []
  },
  {
   "cell_type": "markdown",
   "id": "ordered-hamilton",
   "metadata": {},
   "source": [
    "Now let's save the figure. Remember how to do that?"
   ]
  },
  {
   "cell_type": "code",
   "execution_count": null,
   "id": "based-spouse",
   "metadata": {},
   "outputs": [],
   "source": []
  },
  {
   "cell_type": "markdown",
   "id": "portuguese-brand",
   "metadata": {},
   "source": [
    "## Masking ## "
   ]
  },
  {
   "cell_type": "markdown",
   "id": "elegant-silence",
   "metadata": {},
   "source": [
    "Python has one other concept that will help you on the homework: nan\n",
    "\n",
    "__nan__ stands for 'not a number'.  Think of it as a placeholder, a lacuna, a gap.    "
   ]
  },
  {
   "cell_type": "code",
   "execution_count": null,
   "id": "modular-choir",
   "metadata": {},
   "outputs": [],
   "source": []
  },
  {
   "cell_type": "markdown",
   "id": "wrapped-winner",
   "metadata": {},
   "source": [
    "We can 'mask' an array so that only elements that satisfy some boolean condition are nans or not nans. "
   ]
  },
  {
   "cell_type": "code",
   "execution_count": null,
   "id": "invisible-devices",
   "metadata": {},
   "outputs": [],
   "source": []
  },
  {
   "cell_type": "markdown",
   "id": "accomplished-spell",
   "metadata": {},
   "source": [
    "Now let's mask it:"
   ]
  },
  {
   "cell_type": "code",
   "execution_count": null,
   "id": "aging-maker",
   "metadata": {},
   "outputs": [],
   "source": []
  },
  {
   "cell_type": "markdown",
   "id": "stuck-printing",
   "metadata": {},
   "source": [
    "# Mapping"
   ]
  },
  {
   "cell_type": "markdown",
   "id": "alone-category",
   "metadata": {},
   "source": [
    "Now let's plot maps.  "
   ]
  },
  {
   "cell_type": "code",
   "execution_count": 220,
   "id": "imported-video",
   "metadata": {},
   "outputs": [],
   "source": [
    "from scipy.interpolate import griddata\n",
    "from cartopy import crs as ccrs\n",
    "import cartopy.feature as cfeature\n",
    "from matplotlib import path\n",
    "\n",
    "from matplotlib import colorbar as colorbar\n",
    "import cmocean"
   ]
  },
  {
   "cell_type": "markdown",
   "id": "united-sessions",
   "metadata": {},
   "source": [
    "First, load data"
   ]
  },
  {
   "cell_type": "code",
   "execution_count": 175,
   "id": "complimentary-worship",
   "metadata": {},
   "outputs": [],
   "source": [
    "#ascii file example\n",
    "etopo = np.loadtxt('etopo_15.txt') #lon, lat, topography\n",
    "\n",
    "#numpy .npy binary format example\n",
    "#create file\n",
    "# np.save('etopo_15.npy',etopo)\n",
    "\n",
    "#It is be quicker to load *.npy file instead of the .txt file\n",
    "#load file\n",
    "etopo = np.load('etopo_15.npy')"
   ]
  },
  {
   "cell_type": "markdown",
   "id": "foster-cycle",
   "metadata": {},
   "source": [
    "Now we prepare data to be plotted.  \n",
    "We need to create 3 2-D matrices in which each element represents the lat, lon, or topography at the given point."
   ]
  },
  {
   "cell_type": "code",
   "execution_count": 176,
   "id": "czech-passing",
   "metadata": {},
   "outputs": [
    {
     "name": "stdout",
     "output_type": "stream",
     "text": [
      "linear interpolation ...\n"
     ]
    }
   ],
   "source": [
    "if(True):\n",
    "    ##This is one way ... better for irregularly space data\n",
    "    print('linear interpolation ...')\n",
    "    lon = np.arange(etopo[:,0].min(),etopo[:,0].max()+1,0.5)\n",
    "    lat = np.arange(etopo[:,1].min(),etopo[:,1].max()+1,0.5)\n",
    "    lon2,lat2 = np.meshgrid(lon,lat)\n",
    "    topo2 = griddata((etopo[:,0],etopo[:,1]),etopo[:,2],(lon2, lat2), method='linear')\n",
    "\n",
    "if(False):\n",
    "    ##Another way is to reshape the columns vectors of etopo into 2D arrays\n",
    "    ##This only works if the data is already in a regular grid\n",
    "    print('reshape input data to 2D grids')\n",
    "    num1 = np.unique(etopo[:,0]).size\n",
    "    num2 = np.unique(etopo[:,1]).size\n",
    "\n",
    "    lon2 = np.reshape(etopo[:,0],(num1,num2)).T\n",
    "    lat2 = np.reshape(etopo[:,1],(num1,num2)).T\n",
    "    #Are these the matrices you are looking for?\n",
    "    #print(lon2)\n",
    "    #print(lat2)\n",
    "    topo2 = np.reshape(etopo[:,2],(num1,num2)).T"
   ]
  },
  {
   "cell_type": "markdown",
   "id": "relevant-hampshire",
   "metadata": {},
   "source": [
    "Sanity check: did it work?"
   ]
  },
  {
   "cell_type": "code",
   "execution_count": null,
   "id": "employed-debate",
   "metadata": {},
   "outputs": [],
   "source": []
  },
  {
   "cell_type": "markdown",
   "id": "honest-alliance",
   "metadata": {},
   "source": [
    "Now we want to plot it with latitudes and longitudes"
   ]
  },
  {
   "cell_type": "code",
   "execution_count": 221,
   "id": "satisfactory-shaft",
   "metadata": {},
   "outputs": [],
   "source": [
    "#Set the figure window size\n",
    "\n",
    "# add a subplot\n",
    "\n",
    "# Add data\n",
    "\n",
    "\n",
    "#Set colormap parameters\n",
    "\n",
    "\n",
    "# Add title\n",
    "\n",
    "#Show plot\n"
   ]
  },
  {
   "cell_type": "markdown",
   "id": "unable-restoration",
   "metadata": {},
   "source": [
    "# Now let's play with a region"
   ]
  },
  {
   "cell_type": "markdown",
   "id": "gross-directive",
   "metadata": {},
   "source": [
    "First, make a Polygon around Florida"
   ]
  },
  {
   "cell_type": "code",
   "execution_count": null,
   "id": "ecological-python",
   "metadata": {},
   "outputs": [],
   "source": []
  },
  {
   "cell_type": "markdown",
   "id": "documented-colorado",
   "metadata": {},
   "source": [
    "Next, store lon/lat as tuple pairs"
   ]
  },
  {
   "cell_type": "code",
   "execution_count": null,
   "id": "severe-plumbing",
   "metadata": {},
   "outputs": [],
   "source": []
  },
  {
   "cell_type": "markdown",
   "id": "covered-marketing",
   "metadata": {},
   "source": [
    "Produce a mask identifying points inside the polygon\n"
   ]
  },
  {
   "cell_type": "code",
   "execution_count": 185,
   "id": "vital-conditioning",
   "metadata": {},
   "outputs": [],
   "source": []
  },
  {
   "cell_type": "code",
   "execution_count": null,
   "id": "hispanic-atlas",
   "metadata": {},
   "outputs": [],
   "source": []
  },
  {
   "cell_type": "markdown",
   "id": "chronic-spotlight",
   "metadata": {},
   "source": [
    "Our mask can also be used to identify points outside the polygon  \n",
    "So, set values of etopo[0,2] to nan if outside polygon  \n",
    "\n",
    "Question: what does the etopo[0,2] mean?"
   ]
  },
  {
   "cell_type": "code",
   "execution_count": 187,
   "id": "liberal-prescription",
   "metadata": {},
   "outputs": [],
   "source": []
  },
  {
   "cell_type": "markdown",
   "id": "surgical-hardware",
   "metadata": {},
   "source": [
    "## Format Data for plotting"
   ]
  },
  {
   "cell_type": "markdown",
   "id": "mediterranean-bracelet",
   "metadata": {},
   "source": [
    "Obtain the number of unique elements in etopo[:,?]"
   ]
  },
  {
   "cell_type": "code",
   "execution_count": null,
   "id": "regulated-activation",
   "metadata": {},
   "outputs": [],
   "source": []
  },
  {
   "cell_type": "markdown",
   "id": "special-islam",
   "metadata": {},
   "source": [
    "Using the numpy function reshape our 1D array is transformed into a 2D array  \n",
    "We then take its transpose *.t   \n",
    "\n",
    "_Note, this assumes the data was stored in a particular order_"
   ]
  },
  {
   "cell_type": "code",
   "execution_count": 189,
   "id": "requested-subsection",
   "metadata": {},
   "outputs": [],
   "source": []
  },
  {
   "cell_type": "markdown",
   "id": "inclusive-experiment",
   "metadata": {},
   "source": [
    "## Analyze region\n"
   ]
  },
  {
   "cell_type": "markdown",
   "id": "controlling-hollow",
   "metadata": {},
   "source": [
    "number of elements in polygon   \n",
    "~np.isnan(...) is a masked used to identify elements that are not nan"
   ]
  },
  {
   "cell_type": "code",
   "execution_count": 190,
   "id": "peaceful-field",
   "metadata": {},
   "outputs": [],
   "source": []
  },
  {
   "cell_type": "markdown",
   "id": "inside-adult",
   "metadata": {},
   "source": [
    "Find a topography greater than 0  \n",
    "as before, etopo[...] >= 0.0 is a mask to identify elements greater than 0"
   ]
  },
  {
   "cell_type": "code",
   "execution_count": 191,
   "id": "vulnerable-footage",
   "metadata": {},
   "outputs": [
    {
     "name": "stdout",
     "output_type": "stream",
     "text": [
      "Percent above 0 m:  45.3757225433526\n",
      "Percent above 20 m:  16.184971098265898\n",
      "Percent above 50 m:  0.0\n"
     ]
    }
   ],
   "source": []
  },
  {
   "cell_type": "markdown",
   "id": "waiting-child",
   "metadata": {},
   "source": [
    "# Plot region"
   ]
  },
  {
   "cell_type": "markdown",
   "id": "welcome-strength",
   "metadata": {},
   "source": [
    "Our polygon,p, is stored in a path data structure.  \n",
    "we can access its points through the attribute vertices"
   ]
  },
  {
   "cell_type": "code",
   "execution_count": 192,
   "id": "finite-generation",
   "metadata": {},
   "outputs": [],
   "source": []
  },
  {
   "cell_type": "markdown",
   "id": "confirmed-biodiversity",
   "metadata": {},
   "source": [
    "create Cartopy map with coastlines"
   ]
  },
  {
   "cell_type": "code",
   "execution_count": null,
   "id": "unexpected-nation",
   "metadata": {},
   "outputs": [],
   "source": []
  },
  {
   "cell_type": "code",
   "execution_count": null,
   "id": "serious-amino",
   "metadata": {},
   "outputs": [],
   "source": []
  }
 ],
 "metadata": {
  "kernelspec": {
   "display_name": "Python 3",
   "language": "python",
   "name": "python3"
  },
  "language_info": {
   "codemirror_mode": {
    "name": "ipython",
    "version": 3
   },
   "file_extension": ".py",
   "mimetype": "text/x-python",
   "name": "python",
   "nbconvert_exporter": "python",
   "pygments_lexer": "ipython3",
   "version": "3.9.1"
  }
 },
 "nbformat": 4,
 "nbformat_minor": 5
}
