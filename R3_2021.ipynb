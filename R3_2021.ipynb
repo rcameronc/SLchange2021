{
 "cells": [
  {
   "cell_type": "markdown",
   "id": "cathedral-watershed",
   "metadata": {},
   "source": [
    "# Recap Session 3 Spring 2021"
   ]
  },
  {
   "cell_type": "code",
   "execution_count": 35,
   "id": "empty-hundred",
   "metadata": {},
   "outputs": [],
   "source": [
    "import numpy as np\n",
    "from matplotlib import pyplot as plt\n",
    "import scipy.optimize as opt\n",
    "import numpy.polynomial.polynomial as poly\n"
   ]
  },
  {
   "cell_type": "markdown",
   "id": "random-front",
   "metadata": {},
   "source": [
    "### fit data with a linear trend"
   ]
  },
  {
   "cell_type": "markdown",
   "id": "announced-mortgage",
   "metadata": {},
   "source": [
    "####### Generate linear data in x and y #####\n"
   ]
  },
  {
   "cell_type": "code",
   "execution_count": 31,
   "id": "lucky-discretion",
   "metadata": {},
   "outputs": [],
   "source": []
  },
  {
   "cell_type": "markdown",
   "id": "curious-atlantic",
   "metadata": {},
   "source": [
    "########## add noise to y #####\n"
   ]
  },
  {
   "cell_type": "code",
   "execution_count": 32,
   "id": "quiet-jonathan",
   "metadata": {},
   "outputs": [],
   "source": []
  },
  {
   "cell_type": "markdown",
   "id": "latest-operations",
   "metadata": {},
   "source": [
    "Fit data+noise with polynomial for y=ax+b"
   ]
  },
  {
   "cell_type": "code",
   "execution_count": 48,
   "id": "radio-wednesday",
   "metadata": {},
   "outputs": [],
   "source": []
  },
  {
   "cell_type": "markdown",
   "id": "welcome-bishop",
   "metadata": {},
   "source": [
    "__Plot data__"
   ]
  },
  {
   "cell_type": "code",
   "execution_count": null,
   "id": "another-melissa",
   "metadata": {},
   "outputs": [],
   "source": []
  },
  {
   "cell_type": "markdown",
   "id": "assumed-rubber",
   "metadata": {},
   "source": [
    "### Part 2\n",
    "\n",
    "we continue using python to fit a linear trend,  \n",
    "but now we constrain the the fit to go through point (0,4.5)"
   ]
  },
  {
   "cell_type": "markdown",
   "id": "democratic-technician",
   "metadata": {},
   "source": [
    "Generate clean linear data in x and y\n"
   ]
  },
  {
   "cell_type": "code",
   "execution_count": null,
   "id": "removable-findings",
   "metadata": {},
   "outputs": [],
   "source": []
  },
  {
   "cell_type": "markdown",
   "id": "inner-swing",
   "metadata": {},
   "source": [
    "Add noise to y\n"
   ]
  },
  {
   "cell_type": "code",
   "execution_count": 51,
   "id": "possible-subdivision",
   "metadata": {},
   "outputs": [],
   "source": []
  },
  {
   "cell_type": "markdown",
   "id": "infinite-focus",
   "metadata": {},
   "source": [
    "Fit data+noise with polynomial for y=ax+b\n"
   ]
  },
  {
   "cell_type": "code",
   "execution_count": 52,
   "id": "clear-waters",
   "metadata": {},
   "outputs": [],
   "source": []
  },
  {
   "cell_type": "markdown",
   "id": "dimensional-poetry",
   "metadata": {},
   "source": [
    "### Fit data+noise with y=ax+b & forcing fit through (0,4.5)"
   ]
  },
  {
   "cell_type": "markdown",
   "id": "announced-poetry",
   "metadata": {},
   "source": [
    "How?  One option is to shift all the data so that the constraint point is at (0,0)  \n",
    "and we then use the equation y=a*(x-x0) + y0 for the fit."
   ]
  },
  {
   "cell_type": "code",
   "execution_count": 53,
   "id": "temporal-seafood",
   "metadata": {},
   "outputs": [],
   "source": []
  },
  {
   "cell_type": "markdown",
   "id": "fossil-fairy",
   "metadata": {},
   "source": [
    "define the function we want to fit\n"
   ]
  },
  {
   "cell_type": "code",
   "execution_count": 21,
   "id": "occupied-token",
   "metadata": {},
   "outputs": [],
   "source": []
  },
  {
   "cell_type": "markdown",
   "id": "portuguese-lobby",
   "metadata": {},
   "source": [
    "Perform fit"
   ]
  },
  {
   "cell_type": "code",
   "execution_count": 54,
   "id": "adjusted-delivery",
   "metadata": {},
   "outputs": [],
   "source": []
  },
  {
   "cell_type": "markdown",
   "id": "broad-wales",
   "metadata": {},
   "source": [
    "############## Plot Data ################"
   ]
  },
  {
   "cell_type": "code",
   "execution_count": null,
   "id": "adjusted-fabric",
   "metadata": {},
   "outputs": [],
   "source": []
  },
  {
   "cell_type": "markdown",
   "id": "extra-carter",
   "metadata": {},
   "source": [
    "# part 3\n",
    "\n",
    "fit data with a function y=A*exp(Bx)"
   ]
  },
  {
   "cell_type": "markdown",
   "id": "measured-crowd",
   "metadata": {},
   "source": [
    "We can transform the equation y = A*exp(Bx) to a linear equation  \n",
    "by taking the natural log of both sides. This results in   \n",
    " ln(y) = Bx + ln(A) \n",
    " \n",
    " this is equivalent to Y=CX+D  "
   ]
  },
  {
   "cell_type": "markdown",
   "id": "funky-chick",
   "metadata": {},
   "source": [
    "################# Generate clean data #########\n"
   ]
  },
  {
   "cell_type": "code",
   "execution_count": 24,
   "id": "colonial-candle",
   "metadata": {},
   "outputs": [],
   "source": []
  },
  {
   "cell_type": "markdown",
   "id": "linear-audio",
   "metadata": {},
   "source": [
    "############### Add noise to y ##########\n"
   ]
  },
  {
   "cell_type": "code",
   "execution_count": 25,
   "id": "organic-resident",
   "metadata": {},
   "outputs": [],
   "source": []
  },
  {
   "cell_type": "markdown",
   "id": "proud-passport",
   "metadata": {},
   "source": [
    "############## Transform y using log"
   ]
  },
  {
   "cell_type": "code",
   "execution_count": 26,
   "id": "noticed-notebook",
   "metadata": {},
   "outputs": [],
   "source": []
  },
  {
   "cell_type": "markdown",
   "id": "sought-jacob",
   "metadata": {},
   "source": [
    "############## Fit data+noise with polynomial of the for y=ax+b"
   ]
  },
  {
   "cell_type": "code",
   "execution_count": 27,
   "id": "enclosed-intervention",
   "metadata": {},
   "outputs": [],
   "source": []
  },
  {
   "cell_type": "markdown",
   "id": "expected-elder",
   "metadata": {},
   "source": [
    "The exponential fit of the original equation"
   ]
  },
  {
   "cell_type": "code",
   "execution_count": 28,
   "id": "incorrect-chase",
   "metadata": {},
   "outputs": [],
   "source": []
  },
  {
   "cell_type": "markdown",
   "id": "uniform-wilson",
   "metadata": {},
   "source": [
    "############## Plot Data  \n",
    "Fit of transformation"
   ]
  },
  {
   "cell_type": "code",
   "execution_count": 29,
   "id": "cardiovascular-operations",
   "metadata": {},
   "outputs": [
    {
     "data": {
      "text/plain": [
       "<matplotlib.legend.Legend at 0x15407caf0>"
      ]
     },
     "execution_count": 29,
     "metadata": {},
     "output_type": "execute_result"
    },
    {
     "data": {
      "image/png": "[encoded data removed]",
      "text/plain": [
       "<Figure size 432x432 with 1 Axes>"
      ]
     },
     "metadata": {
      "needs_background": "light"
     },
     "output_type": "display_data"
    }
   ],
   "source": []
  },
  {
   "cell_type": "markdown",
   "id": "sustainable-integration",
   "metadata": {},
   "source": [
    "Fit of original equation\n"
   ]
  },
  {
   "cell_type": "code",
   "execution_count": 30,
   "id": "prostate-russia",
   "metadata": {},
   "outputs": [
    {
     "data": {
      "image/png": "[encoded data removed]",
      "text/plain": [
       "<Figure size 432x432 with 1 Axes>"
      ]
     },
     "metadata": {
      "needs_background": "light"
     },
     "output_type": "display_data"
    }
   ],
   "source": [
    "\n"
   ]
  },
  {
   "cell_type": "code",
   "execution_count": null,
   "id": "classical-unknown",
   "metadata": {},
   "outputs": [],
   "source": []
  }
 ],
 "metadata": {
  "kernelspec": {
   "display_name": "Python 3",
   "language": "python",
   "name": "python3"
  },
  "language_info": {
   "codemirror_mode": {
    "name": "ipython",
    "version": 3
   },
   "file_extension": ".py",
   "mimetype": "text/x-python",
   "name": "python",
   "nbconvert_exporter": "python",
   "pygments_lexer": "ipython3",
   "version": "3.9.1"
  }
 },
 "nbformat": 4,
 "nbformat_minor": 5
}
