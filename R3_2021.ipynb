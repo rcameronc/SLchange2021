{
 "cells": [
  {
   "cell_type": "markdown",
   "id": "recovered-ratio",
   "metadata": {},
   "source": [
    "# Recap Session 3 Spring 2021"
   ]
  },
  {
   "cell_type": "code",
   "execution_count": 2,
   "id": "everyday-trailer",
   "metadata": {},
   "outputs": [],
   "source": [
    "import numpy as np\n",
    "from matplotlib import pyplot as plt\n",
    "import scipy.optimize as opt\n",
    "import numpy.polynomial.polynomial as poly"
   ]
  },
  {
   "cell_type": "markdown",
   "id": "alien-edward",
   "metadata": {},
   "source": [
    "### fit data with a linear trend"
   ]
  },
  {
   "cell_type": "markdown",
   "id": "demographic-filename",
   "metadata": {},
   "source": [
    "####### Generate linear data in x and y #####\n"
   ]
  },
  {
   "cell_type": "markdown",
   "id": "global-covering",
   "metadata": {},
   "source": [
    "y = mx + b"
   ]
  },
  {
   "cell_type": "code",
   "execution_count": 5,
   "id": "distinguished-ballot",
   "metadata": {},
   "outputs": [],
   "source": [
    "x = np.arange(1, 25, 1)\n",
    "y = 3*x + 10"
   ]
  },
  {
   "cell_type": "markdown",
   "id": "reported-convergence",
   "metadata": {},
   "source": [
    "########## add noise to y #####\n"
   ]
  },
  {
   "cell_type": "code",
   "execution_count": 6,
   "id": "contained-times",
   "metadata": {},
   "outputs": [],
   "source": [
    "mu = 0 \n",
    "sigma = 8\n",
    "\n",
    "y2 = y + np.random.normal(mu, sigma, y.size)"
   ]
  },
  {
   "cell_type": "markdown",
   "id": "least-thompson",
   "metadata": {},
   "source": [
    "Fit data+noise with polynomial for y=ax+b"
   ]
  },
  {
   "cell_type": "code",
   "execution_count": 10,
   "id": "passive-fisher",
   "metadata": {},
   "outputs": [],
   "source": [
    "const = np.polyfit(x, y2, 1)\n",
    "\n",
    "y_fit = const[0]*x + const[1]"
   ]
  },
  {
   "cell_type": "markdown",
   "id": "affected-trout",
   "metadata": {},
   "source": [
    "__Plot data__"
   ]
  },
  {
   "cell_type": "markdown",
   "id": "statewide-afternoon",
   "metadata": {},
   "source": [
    "x vs y_fit\n",
    "x vs y\n",
    "x vs y2"
   ]
  },
  {
   "cell_type": "code",
   "execution_count": 17,
   "id": "mental-wholesale",
   "metadata": {},
   "outputs": [
    {
     "data": {
      "image/png": "[encoded data removed]",
      "text/plain": [
       "<Figure size 432x432 with 1 Axes>"
      ]
     },
     "metadata": {
      "needs_background": "light"
     },
     "output_type": "display_data"
    }
   ],
   "source": [
    "f1 = plt.figure(figsize=(6,6)) # Obtain figure handle\n",
    "\n",
    "plt.title('Example of a linear fit y=ax+b')\n",
    "\n",
    "plt.plot(x, y, '-r', label = 'data')\n",
    "plt.plot(x, y2, 'ob', label = 'data+noise')\n",
    "plt.plot(x, y_fit, '--b', label='fit without constraints')\n",
    "plt.xlabel('time')\n",
    "plt.ylabel('relative sea level (m)')\n",
    "\n",
    "plt.legend()\n",
    "\n",
    "plt.show()\n"
   ]
  },
  {
   "cell_type": "markdown",
   "id": "regulation-azerbaijan",
   "metadata": {},
   "source": [
    "### Part 2\n",
    "\n",
    "we continue using python to fit a linear trend,  \n",
    "but now we constrain the the fit to go through point (0, 10)"
   ]
  },
  {
   "cell_type": "markdown",
   "id": "constant-annual",
   "metadata": {},
   "source": [
    "Generate clean linear data in x and y\n"
   ]
  },
  {
   "cell_type": "code",
   "execution_count": null,
   "id": "adverse-produce",
   "metadata": {},
   "outputs": [],
   "source": [
    "x = np.linspace(0,25,25)\n",
    "y = 3.14*x + 10"
   ]
  },
  {
   "cell_type": "markdown",
   "id": "better-feeding",
   "metadata": {},
   "source": [
    "Add noise to y\n"
   ]
  },
  {
   "cell_type": "code",
   "execution_count": 51,
   "id": "painted-method",
   "metadata": {},
   "outputs": [],
   "source": [
    "mu = 0.0\n",
    "sigma = 8\n",
    "y2 = y + np.random.normal(mu,sigma,y.size)"
   ]
  },
  {
   "cell_type": "markdown",
   "id": "invalid-definition",
   "metadata": {},
   "source": [
    "Fit data+noise with polynomial for y=ax+b\n"
   ]
  },
  {
   "cell_type": "code",
   "execution_count": 52,
   "id": "smoking-breathing",
   "metadata": {},
   "outputs": [],
   "source": [
    "const1 = np.polyfit(x,y2,1)\n",
    "y_fit1 = const1[0]*x + const1[1]"
   ]
  },
  {
   "cell_type": "markdown",
   "id": "premier-gates",
   "metadata": {},
   "source": [
    "### Fit data+noise with y=ax+b & forcing fit through (0,4.5)"
   ]
  },
  {
   "cell_type": "markdown",
   "id": "surprising-recommendation",
   "metadata": {},
   "source": [
    "How?  One option is to shift all the data so that the constraint point is at (0,0)  \n",
    "and we then use the equation y=a*(x-x0) + y0 for the fit."
   ]
  },
  {
   "cell_type": "code",
   "execution_count": 24,
   "id": "surprised-creek",
   "metadata": {},
   "outputs": [],
   "source": [
    "pt = [0.0,4.5]"
   ]
  },
  {
   "cell_type": "markdown",
   "id": "suitable-tribute",
   "metadata": {},
   "source": [
    "define the function we want to fit\n"
   ]
  },
  {
   "cell_type": "code",
   "execution_count": 25,
   "id": "right-polyester",
   "metadata": {},
   "outputs": [],
   "source": [
    "def func(x, a):\n",
    "    return a*(x-pt[0]) + pt[1]"
   ]
  },
  {
   "cell_type": "markdown",
   "id": "industrial-policy",
   "metadata": {},
   "source": [
    "Perform fit"
   ]
  },
  {
   "cell_type": "code",
   "execution_count": 27,
   "id": "distant-statement",
   "metadata": {},
   "outputs": [],
   "source": [
    "const2 = opt.curve_fit(func, x, y)\n",
    "y_fit2 = const2[0] * (x-pt[0]) + pt[1]"
   ]
  },
  {
   "cell_type": "markdown",
   "id": "labeled-migration",
   "metadata": {},
   "source": [
    "############## Plot Data ################"
   ]
  },
  {
   "cell_type": "code",
   "execution_count": 28,
   "id": "potential-cannon",
   "metadata": {},
   "outputs": [
    {
     "data": {
      "image/png": "[encoded data removed]",
      "text/plain": [
       "<Figure size 432x432 with 1 Axes>"
      ]
     },
     "metadata": {
      "needs_background": "light"
     },
     "output_type": "display_data"
    }
   ],
   "source": [
    "f1 = plt.figure(figsize=(6,6)) # Obtain figure handle\n",
    "\n",
    "plt.title('Example of a linear fit y=ax+b')\n",
    "\n",
    "plt.plot(x, y, '-r', label = 'data')\n",
    "plt.plot(x, y2, 'ob', label = 'data+noise')\n",
    "plt.plot(x, y_fit, '--b', label='fit without constraints')\n",
    "plt.plot(x, y_fit2, '.g', label='fit with constraint x=0, y=4.5')\n",
    "\n",
    "plt.xlabel('time')\n",
    "plt.ylabel('relative sea level (m)')\n",
    "\n",
    "plt.legend()\n",
    "\n",
    "plt.show()"
   ]
  },
  {
   "cell_type": "markdown",
   "id": "hybrid-piano",
   "metadata": {},
   "source": [
    "# part 3\n",
    "\n",
    "fit data with a function y=A*exp(Bx)"
   ]
  },
  {
   "cell_type": "markdown",
   "id": "spiritual-advertiser",
   "metadata": {},
   "source": [
    "We can transform the equation y = A*exp(Bx) to a linear equation  \n",
    "by taking the natural log of both sides. This results in   \n",
    " ln(y) = Bx + ln(A) \n",
    " \n",
    " this is equivalent to Y=CX+D  "
   ]
  },
  {
   "cell_type": "markdown",
   "id": "documented-netscape",
   "metadata": {},
   "source": [
    "################# Generate clean data #########\n"
   ]
  },
  {
   "cell_type": "code",
   "execution_count": 29,
   "id": "relevant-genius",
   "metadata": {},
   "outputs": [],
   "source": [
    "x = np.linspace(0, 10, 20)\n",
    "y = 0.2 * np.exp(0.5 * x)"
   ]
  },
  {
   "cell_type": "markdown",
   "id": "digital-crawford",
   "metadata": {},
   "source": [
    "############### Add noise to y ##########\n"
   ]
  },
  {
   "cell_type": "code",
   "execution_count": 30,
   "id": "configured-salvation",
   "metadata": {},
   "outputs": [],
   "source": [
    "mu = 0.0\n",
    "sigma = 0.25\n",
    "y2 = y * (1 + np.random.normal(mu, sigma, y.size))\n"
   ]
  },
  {
   "cell_type": "markdown",
   "id": "challenging-leadership",
   "metadata": {},
   "source": [
    "############## Transform y using log"
   ]
  },
  {
   "cell_type": "code",
   "execution_count": 34,
   "id": "polar-humanity",
   "metadata": {},
   "outputs": [],
   "source": [
    "y3 = np.log(y2)"
   ]
  },
  {
   "cell_type": "markdown",
   "id": "moved-charles",
   "metadata": {},
   "source": [
    "############## Fit data+noise with polynomial of the for y=ax+b"
   ]
  },
  {
   "cell_type": "markdown",
   "id": "progressive-lunch",
   "metadata": {},
   "source": [
    "Best-fitting line = line for which the sum of squared distances between data and that line is smallest\n",
    "\n",
    "y = mx + b \n",
    "\n",
    "const[0] = m  \n",
    "const[1] = b"
   ]
  },
  {
   "cell_type": "code",
   "execution_count": 37,
   "id": "incorporated-genre",
   "metadata": {},
   "outputs": [],
   "source": [
    "const = np.polyfit(x, y3, 1)\n",
    "y_fit1 = const[0]*x + const[1]"
   ]
  },
  {
   "cell_type": "markdown",
   "id": "incorporate-capitol",
   "metadata": {},
   "source": [
    "The exponential fit of the original equation"
   ]
  },
  {
   "cell_type": "code",
   "execution_count": 39,
   "id": "signed-figure",
   "metadata": {},
   "outputs": [],
   "source": [
    "A = np.exp(const[1])\n",
    "B = const[0]\n",
    "y_fit2 = A * np.exp(B*x)"
   ]
  },
  {
   "cell_type": "markdown",
   "id": "difficult-calgary",
   "metadata": {},
   "source": [
    "############## Plot Data  \n",
    "Fit of transformation"
   ]
  },
  {
   "cell_type": "code",
   "execution_count": 40,
   "id": "subject-stevens",
   "metadata": {},
   "outputs": [
    {
     "data": {
      "text/plain": [
       "<matplotlib.legend.Legend at 0x156d6b370>"
      ]
     },
     "execution_count": 40,
     "metadata": {},
     "output_type": "execute_result"
    },
    {
     "data": {
      "image/png": "[encoded data removed]",
      "text/plain": [
       "<Figure size 432x432 with 1 Axes>"
      ]
     },
     "metadata": {
      "needs_background": "light"
     },
     "output_type": "display_data"
    }
   ],
   "source": [
    "f1 = plt.figure(figsize=(6,6)) # Obtain figure handle\n",
    "plt.title('Example of transformation log(y) = Bx + ln(A)')\n",
    "plt.xlabel('Count')\n",
    "plt.ylabel('log(y)')\n",
    "\n",
    "plt.plot(x, np.log(y), '-r', label='data')\n",
    "plt.plot(x, y3, 'ob', label = 'data+noise')\n",
    "plt.plot(x, y_fit1, '--b', label='fit without constraints')\n",
    "\n",
    "plt.legend()"
   ]
  },
  {
   "cell_type": "markdown",
   "id": "exceptional-burke",
   "metadata": {},
   "source": [
    "Fit of original equation\n"
   ]
  },
  {
   "cell_type": "code",
   "execution_count": 41,
   "id": "velvet-kinase",
   "metadata": {},
   "outputs": [
    {
     "data": {
      "image/png": "[encoded data removed]",
      "text/plain": [
       "<Figure size 432x432 with 1 Axes>"
      ]
     },
     "metadata": {
      "needs_background": "light"
     },
     "output_type": "display_data"
    }
   ],
   "source": [
    "#Fit of original equation\n",
    "f2 = plt.figure(figsize=(6,6)) # Obtain figure handle\n",
    "plt.title('Example of an exponential fit y=A*exp(Bx)')\n",
    "plt.xlabel('Count')\n",
    "plt.ylabel('Count')\n",
    "\n",
    "plt.plot(x,y,'-r',label = 'data')\n",
    "plt.plot(x,y2,'ob',label = 'data+noise')\n",
    "plt.plot(x,y_fit2,'--b',label='fit without constraints')\n",
    "\n",
    "plt.legend()\n",
    "\n",
    "plt.show()"
   ]
  },
  {
   "cell_type": "markdown",
   "id": "pediatric-updating",
   "metadata": {},
   "source": [
    "## This is called 'Ordinary Least Squares'"
   ]
  },
  {
   "cell_type": "markdown",
   "id": "introductory-posting",
   "metadata": {},
   "source": [
    "OLS assumes that the uncertainty on each data point is the same. \n",
    "The fancy stats term for this is homoskedasticity.\n",
    "\n",
    "If all uncertainties not the same, we use:  __Weighted Least Squares__\n"
   ]
  },
  {
   "cell_type": "code",
   "execution_count": null,
   "id": "willing-boutique",
   "metadata": {},
   "outputs": [],
   "source": []
  }
 ],
 "metadata": {
  "kernelspec": {
   "display_name": "Python 3",
   "language": "python",
   "name": "python3"
  },
  "language_info": {
   "codemirror_mode": {
    "name": "ipython",
    "version": 3
   },
   "file_extension": ".py",
   "mimetype": "text/x-python",
   "name": "python",
   "nbconvert_exporter": "python",
   "pygments_lexer": "ipython3",
   "version": "3.9.1"
  }
 },
 "nbformat": 4,
 "nbformat_minor": 5
}
